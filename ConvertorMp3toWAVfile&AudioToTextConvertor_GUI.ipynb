{
 "cells": [
  {
   "cell_type": "code",
   "execution_count": null,
   "metadata": {
    "ExecuteTime": {
     "start_time": "2021-01-11T22:25:41.399Z"
    },
    "scrolled": false
   },
   "outputs": [
    {
     "name": "stdout",
     "output_type": "stream",
     "text": [
      "['/Users/surbhi/opt/anaconda3/bin', '/Library/Frameworks/Python.framework/Versions/3.8/bin', '/Library/Frameworks/Python.framework/Versions/3.8/bin', '/Users/surbhi/Downloads/ffmpeg-20200608-d29aaf1-macos64-static/bin', '/usr/local/mysql/bin', '/usr/local/mysql/bin', '/Library/Frameworks/Python.framework/Versions/3.8/bin', '/Users/surbhi/Downloads/mongodb-macos-x86_64-enterprise-4.2.8/bin', '/usr/local/bin', '/usr/bin', '/bin', '/usr/sbin', '/sbin']\n"
     ]
    }
   ],
   "source": [
    "# install both below libraries to work\n",
    "# !pip install pydub\n",
    "# !pip install ffmpeg\n",
    "\n",
    "\n",
    "import tkinter as tk\n",
    "from tkinter import filedialog\n",
    "import speech_recognition as sr\n",
    "import os \n",
    "import pydub\n",
    "from pathlib import Path\n",
    "import subprocess\n",
    "\n",
    "\n",
    "os.chdir(\"/Users/surbhi/Downloads\")\n",
    "window=tk.Tk()\n",
    "window.title(\"My play window\")\n",
    "frame=tk.Frame(window,)\n",
    "frame.pack()\n",
    "labl=tk.Label(frame,text=\"My play window\",width=50,height=10,bg=\"blue\",fg=\"black\")\n",
    "labl.pack()\n",
    "\n",
    "def SelectAudioFile():\n",
    "    # user is asked to select the mp3 file\n",
    "    path=filedialog.askopenfilename(defaultextension=\".mp3\")\n",
    "    \n",
    "#   here the mp3 file is converetd to .wav using subprocess module ffmeg \n",
    "    if os.path.isfile(\"/Users/surbhi/Downloads/covertedtowav.wav\") is False:\n",
    "      subprocess.call(['ffmpeg', '-i', path,\n",
    "                   '/Users/surbhi/Downloads/covertedtowav.wav'])\n",
    "    \n",
    "    \n",
    "    # initailsing a speech recogniser object\n",
    "    r=sr.Recognizer()\n",
    "    newpath=Path(\"/Users/surbhi/Downloads/covertedtowav.wav\")\n",
    "    with sr.AudioFile(str(newpath)) as source:\n",
    "        audio=r.record(source)\n",
    "        try:\n",
    "            text=r.recognize_google(audio)\n",
    "            # inserting text to Text widget\n",
    "            txt.insert(\"1.0\",text)\n",
    "        except Exception as e:\n",
    "            print(e)\n",
    "            \n",
    "            \n",
    "            \n",
    "bttn=tk.Button(frame,text=\"Select the file\",width=50,height=10,bg=\"blue\",fg=\"black\",command=SelectAudioFile)\n",
    "bttn.pack()\n",
    "txt=tk.Text(frame,width=50,height=10,bg=\"blue\",fg=\"black\")\n",
    "txt.pack()\n",
    "window.mainloop()"
   ]
  }
 ],
 "metadata": {
  "kernelspec": {
   "display_name": "Python 3",
   "language": "python",
   "name": "python3"
  },
  "language_info": {
   "codemirror_mode": {
    "name": "ipython",
    "version": 3
   },
   "file_extension": ".py",
   "mimetype": "text/x-python",
   "name": "python",
   "nbconvert_exporter": "python",
   "pygments_lexer": "ipython3",
   "version": "3.8.5"
  },
  "toc": {
   "base_numbering": 1,
   "nav_menu": {},
   "number_sections": true,
   "sideBar": true,
   "skip_h1_title": false,
   "title_cell": "Table of Contents",
   "title_sidebar": "Contents",
   "toc_cell": false,
   "toc_position": {},
   "toc_section_display": true,
   "toc_window_display": false
  }
 },
 "nbformat": 4,
 "nbformat_minor": 4
}
